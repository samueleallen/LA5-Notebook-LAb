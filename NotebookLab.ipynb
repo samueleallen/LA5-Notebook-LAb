{
 "cells": [
  {
   "cell_type": "markdown",
   "metadata": {},
   "source": [
    "# MA5 Notebook Lab\n",
    "Author: Samuel Allen"
   ]
  },
  {
   "cell_type": "markdown",
   "metadata": {},
   "source": [
    "## Task 1:\n",
    "The challenge for this task is to typeset more complex mathematical equations using latex."
   ]
  },
  {
   "cell_type": "markdown",
   "metadata": {},
   "source": [
    "$$log_2(a \\times b) = log_2a + log_2b$$\n",
    "$$log_2(a/b) = log_2a - log_2b$$\n",
    "$$log_2(a^n) = n \\times log_2a$$\n",
    "$$log_2(1/a) = -log_2a$$\n",
    "$$ \\sum_{i=1}^{i=m} \\sum_{j=1}^{j=n}a_{ij} = \\sum_{j=1}^{j=n} \\sum_{i=1}^{i=m}a_{ij}$$\n",
    "\n",
    "Equations cited from [Bramer's](https://www.amazon.com/Principles-Mining-Undergraduate-Computer-Science/dp/1447174925) Principles of Data Mining."
   ]
  },
  {
   "cell_type": "markdown",
   "metadata": {},
   "source": [
    "## Task 2:\n",
    "\n",
    "1. Typeset the formula for computing the mean of a sequence of numbers a.\n",
    "   $$avg = \\frac{\\sum_{i=1}^{i=n}a_i}{\\sum_{i=1}^{i=n}{i}}"
   ]
  },
  {
   "cell_type": "code",
   "execution_count": 1,
   "metadata": {},
   "outputs": [],
   "source": [
    "# Implementation of mean caclulation\n",
    "def calculate_mean(nums):\n",
    "    \"\"\"\n",
    "    Takes in a 1D list and ouputs the mean of the numbers within the list\n",
    "    \n",
    "    Arguments:\n",
    "        nums: 1D list of numbers\n",
    "    Output:\n",
    "        mean: calculated mean of the 1D list of numbers\n",
    "    \"\"\"\n",
    "    total = 0\n",
    "    count = 0\n",
    "\n",
    "    # Loop through each number and add to count/total\n",
    "    for num in nums:\n",
    "        total += num\n",
    "        count += 1\n",
    "\n",
    "    # Calculate mean\n",
    "    mean = total / count\n",
    "\n",
    "    return mean\n"
   ]
  },
  {
   "cell_type": "code",
   "execution_count": 12,
   "metadata": {},
   "outputs": [
    {
     "name": "stdout",
     "output_type": "stream",
     "text": [
      "Mean of list with random ints between 0-500:  242.28\n",
      "Mean of list with random ints between 0-100:  49.8\n"
     ]
    }
   ],
   "source": [
    "# Test calculate_mean function\n",
    "import random\n",
    "\n",
    "nums1 = []\n",
    "for i in range(100):\n",
    "    nums1.append(random.randint(0, 500))\n",
    "\n",
    "nums1_mean = calculate_mean(nums1)\n",
    "print(\"Mean of list with random ints between 0-500: \", nums1_mean)\n",
    "\n",
    "nums2 = []\n",
    "for i in range(100):\n",
    "    nums2.append(random.randint(0, 100))\n",
    "\n",
    "nums2_mean = calculate_mean(nums2)\n",
    "print(\"Mean of list with random ints between 0-100: \", nums2_mean)"
   ]
  },
  {
   "cell_type": "markdown",
   "metadata": {},
   "source": [
    "## Task 3:\n",
    "This image is meant to be funny since data scientists love to use all sorts of libraries so we don't have to do the full implementation ourselves.\n",
    "\n",
    "![image](https://storage.googleapis.com/kaggle-forum-message-attachments/703594/14673/DATAAC.jpeg)"
   ]
  }
 ],
 "metadata": {
  "kernelspec": {
   "display_name": "base",
   "language": "python",
   "name": "python3"
  },
  "language_info": {
   "codemirror_mode": {
    "name": "ipython",
    "version": 3
   },
   "file_extension": ".py",
   "mimetype": "text/x-python",
   "name": "python",
   "nbconvert_exporter": "python",
   "pygments_lexer": "ipython3",
   "version": "3.12.7"
  }
 },
 "nbformat": 4,
 "nbformat_minor": 2
}
